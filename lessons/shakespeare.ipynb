{
 "cells": [
  {
   "cell_type": "markdown",
   "metadata": {},
   "source": [
    "# Quantifying Shakespeare\n",
    "\n",
    "in this notebook we will find the frequencies with which shakespeare's words used letters. "
   ]
  },
  {
   "cell_type": "code",
   "execution_count": 30,
   "metadata": {},
   "outputs": [
    {
     "name": "stdout",
     "output_type": "stream",
     "text": [
      "114588\n"
     ]
    }
   ],
   "source": [
    "from io import TextIOWrapper\n",
    "\n",
    "def read_file(filename: str) -> list[str]:\n",
    "    \"\"\"Given the name of a file, return the list of its lines.\"\"\"\n",
    "    lines: list[str] = []\n",
    "    file: TextIOWrapper = open(filename, \"r\", encoding=\"utf8\")\n",
    "    for line in file:\n",
    "        line = line.strip()\n",
    "        line = line.lower()\n",
    "        if line != \"\":\n",
    "            lines.append(line)\n",
    "    return lines\n",
    "\n",
    "shakespeare_lines: list[str] = read_file(\"./shakespeare.txt\")\n",
    "print(len(shakespeare_lines))\n"
   ]
  },
  {
   "cell_type": "markdown",
   "metadata": {},
   "source": [
    "the next step of our analysis is to count the letters in the lines list one-by-one to find the frequency of use of each letter. "
   ]
  },
  {
   "cell_type": "code",
   "execution_count": 31,
   "metadata": {},
   "outputs": [
    {
     "name": "stdout",
     "output_type": "stream",
     "text": [
      "{'t': 328842, 'h': 236511, 'e': 445863, 's': 248362, 'o': 313674, 'n': 242624, 'b': 61710, 'y': 94113, 'w': 89256, 'i': 253101, 'l': 169537, 'a': 288468, 'm': 111147, 'k': 35350, 'p': 58183, 'r': 237046, 'f': 80297, 'c': 87713, 'u': 128643, 'd': 149018, 'g': 68018, 'v': 37479, 'z': 1626, 'x': 5211, 'q': 3577, 'j': 4746}\n"
     ]
    }
   ],
   "source": [
    "# Goal: define a function named `tally`\n",
    "# Give the function (as params) a dictionary reference (key: str, value: int) and a key \n",
    "# If the key is in the dictionary, increase values by 1\n",
    "# Otherwise, set key's value to 1\n",
    "# It is a procedure and its retun type is None\n",
    "\n",
    "\n",
    "def tally(count: dict[str, int], key: str) -> None:\n",
    "    \"\"\"Mutate count to increment a key by 1 if it exists, or  initialize to 1.\"\"\"\n",
    "    # for key in count:\n",
    "    if key in count:\n",
    "        count[key] += 1\n",
    "    else:\n",
    "        count[key] = 1\n",
    "\n",
    "\n",
    "def count_letters(lines: list[str]) -> dict[str, int]:\n",
    "    \"\"\"Count freuqencies of all letters in a list of strings.\"\"\"\n",
    "    count: dict[str, int] = {}\n",
    "   # loop through all lines\n",
    "    for line in lines:\n",
    "   # for each line, loop through all chacters\n",
    "        for char in line:\n",
    "   # tally character into the counts dictionary \n",
    "   # challenge: tally only letter! no numbers or puncuation. \n",
    "            if char.isalpha(): #  OR - if char >= 'a' and char <= 'z':\n",
    "                tally(count, char)\n",
    "    return count\n",
    "\n",
    "shakespeare_letters: dict[str, int] = count_letters(shakespeare_lines)\n",
    "print(shakespeare_letters)"
   ]
  },
  {
   "cell_type": "markdown",
   "metadata": {},
   "source": [
    "let's create a visualization of this data w a bar chart"
   ]
  },
  {
   "cell_type": "code",
   "execution_count": 32,
   "metadata": {},
   "outputs": [
    {
     "name": "stdout",
     "output_type": "stream",
     "text": [
      "{'a': 288468, 'b': 61710, 'c': 87713, 'd': 149018, 'e': 445863, 'f': 80297, 'g': 68018, 'h': 236511, 'i': 253101, 'j': 4746, 'k': 35350, 'l': 169537, 'm': 111147, 'n': 242624, 'o': 313674, 'p': 58183, 'q': 3577, 'r': 237046, 's': 248362, 't': 328842, 'u': 128643, 'v': 37479, 'w': 89256, 'x': 5211, 'y': 94113, 'z': 1626}\n"
     ]
    }
   ],
   "source": [
    "items_in_dict: list[tuple[str, int]] = list(shakespeare_letters.items())\n",
    "# item = pair of key and value == tuple\n",
    "items_in_dict = sorted(items_in_dict)\n",
    "sorted_letters: dict[str, int] = dict(items_in_dict)\n",
    "print(sorted_letters)\n",
    "\n"
   ]
  },
  {
   "cell_type": "code",
   "execution_count": 33,
   "metadata": {},
   "outputs": [
    {
     "data": {
      "text/plain": [
       "<BarContainer object of 26 artists>"
      ]
     },
     "execution_count": 33,
     "metadata": {},
     "output_type": "execute_result"
    },
    {
     "data": {
      "image/png": "[encoded data removed]",
      "text/plain": [
       "<Figure size 432x288 with 1 Axes>"
      ]
     },
     "metadata": {
      "needs_background": "light"
     },
     "output_type": "display_data"
    }
   ],
   "source": [
    "from matplotlib import pyplot\n",
    "\n",
    "pyplot.title(\"frequencies of letters\")\n",
    "pyplot.xlabel(\"letters\")\n",
    "pyplot.ylabel(\"counts\")\n",
    "labels: list[str] = list(sorted_letters.keys())\n",
    "values: list[int] = list(sorted_letters.values())\n",
    "pyplot.bar(labels, values)\n"
   ]
  }
 ],
 "metadata": {
  "interpreter": {
   "hash": "f492899be371dffb975dd39d0c4b1a64ede51399bfe521c1f6a5ec67e1b23428"
  },
  "kernelspec": {
   "display_name": "Python 3.10.1 64-bit",
   "language": "python",
   "name": "python3"
  },
  "language_info": {
   "codemirror_mode": {
    "name": "ipython",
    "version": 3
   },
   "file_extension": ".py",
   "mimetype": "text/x-python",
   "name": "python",
   "nbconvert_exporter": "python",
   "pygments_lexer": "ipython3",
   "version": "3.10.1"
  },
  "orig_nbformat": 4
 },
 "nbformat": 4,
 "nbformat_minor": 2
}
